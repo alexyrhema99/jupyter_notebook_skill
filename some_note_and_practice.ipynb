{
 "cells": [
  {
   "cell_type": "markdown",
   "metadata": {
    "toc": true
   },
   "source": [
    "<h1>Table of Contents<span class=\"tocSkip\"></span></h1>\n",
    "<div class=\"toc\"><ul class=\"toc-item\"><li><span><a href=\"#列出目前目錄下的文件\" data-toc-modified-id=\"列出目前目錄下的文件-1\"><span class=\"toc-item-num\">1&nbsp;&nbsp;</span>列出目前目錄下的文件</a></span></li><li><span><a href=\"#列出目前有的套件與搜尋\" data-toc-modified-id=\"列出目前有的套件與搜尋-2\"><span class=\"toc-item-num\">2&nbsp;&nbsp;</span>列出目前有的套件與搜尋</a></span><ul class=\"toc-item\"><li><span><a href=\"#列出所有套件，以及套件版本。\" data-toc-modified-id=\"列出所有套件，以及套件版本。-2.1\"><span class=\"toc-item-num\">2.1&nbsp;&nbsp;</span>列出所有套件，以及套件版本。</a></span></li><li><span><a href=\"#搜尋特定名稱的套件。\" data-toc-modified-id=\"搜尋特定名稱的套件。-2.2\"><span class=\"toc-item-num\">2.2&nbsp;&nbsp;</span>搜尋特定名稱的套件。</a></span></li></ul></li><li><span><a href=\"#Some-Jupyter-Magic-Commands\" data-toc-modified-id=\"Some-Jupyter-Magic-Commands-3\"><span class=\"toc-item-num\">3&nbsp;&nbsp;</span>Some Jupyter Magic Commands</a></span></li></ul></div>"
   ]
  },
  {
   "cell_type": "markdown",
   "metadata": {},
   "source": [
    "---\n",
    "# 列出目前目錄下的文件\n",
    "\n",
    "如果檔案夾中有中文的檔案，會有編碼錯誤的問題，目前仍無法解決  \n",
    "**所以建議不要有中文編碼**  \n",
    "\n",
    "----\n",
    "另外，網路上查詢編碼錯誤時，注意是在說明Python2 or Python3的解法\n",
    "目前python3是不需要再開頭加入什麼 「# -*- encoding: utf8-*-」的東西\n",
    "\n",
    "另外，常常在 str字串前面，加入u or b，分別是指\n",
    "- u: unicode類型\n",
    "- : bytes類型(電腦看的)\n",
    "\n",
    "----\n",
    "目前看到一些講解不錯的 encoding網站 解釋  \n",
    "[python的字串與轉碼問題：string and encode in 2.7/3.x](https://hanschang.org/wordpress/2018/02/12/python-python%E7%9A%84%E5%AD%97%E4%B8%B2%E8%88%87%E8%BD%89%E7%A2%BC%E5%95%8F%E9%A1%8C%EF%BC%9Astring-and-encode-in-2-7-3-x/)  \n",
    "[Python 的編碼](https://openhome.cc/Gossip/Encoding/Python.html)  \n",
    "[python string and unicode string](http://quickteckiteasy.blogspot.com/2009/03/python-string-and-unicode-string.html)"
   ]
  },
  {
   "cell_type": "code",
   "execution_count": 1,
   "metadata": {},
   "outputs": [
    {
     "name": "stdout",
     "output_type": "stream",
     "text": [
      "README.html\n",
      "README.md\n",
      "some_note_and_practice.ipynb\n"
     ]
    }
   ],
   "source": [
    "!ls"
   ]
  },
  {
   "cell_type": "code",
   "execution_count": 2,
   "metadata": {},
   "outputs": [],
   "source": [
    "a = !ls"
   ]
  },
  {
   "cell_type": "code",
   "execution_count": 3,
   "metadata": {},
   "outputs": [
    {
     "data": {
      "text/plain": [
       "IPython.utils.text.SList"
      ]
     },
     "execution_count": 3,
     "metadata": {},
     "output_type": "execute_result"
    }
   ],
   "source": [
    "type(a)"
   ]
  },
  {
   "cell_type": "markdown",
   "metadata": {},
   "source": [
    "---\n",
    "# 列出目前有的套件與搜尋\n",
    "\n",
    "## 列出所有套件，以及套件版本。"
   ]
  },
  {
   "cell_type": "code",
   "execution_count": 4,
   "metadata": {},
   "outputs": [
    {
     "name": "stdout",
     "output_type": "stream",
     "text": [
      "Package                           Version\n",
      "--------------------------------- -------\n",
      "attrs                             19.1.0 \n",
      "backcall                          0.1.0  \n",
      "bleach                            3.1.0  \n",
      "colorama                          0.4.1  \n",
      "cycler                            0.10.0 \n",
      "decorator                         4.3.2  \n",
      "defusedxml                        0.5.0  \n",
      "entrypoints                       0.3    \n",
      "ipykernel                         5.1.0  \n",
      "ipython                           7.3.0  \n",
      "ipython-genutils                  0.2.0  \n",
      "ipywidgets                        7.4.2  \n",
      "jedi                              0.13.3 \n",
      "jieba                             0.39   \n",
      "Jinja2                            2.10   \n",
      "jsonschema                        3.0.1  \n",
      "jupyter                           1.0.0  \n",
      "jupyter-client                    5.2.4  \n",
      "jupyter-console                   6.0.0  \n",
      "jupyter-contrib-core              0.3.3  \n",
      "jupyter-contrib-nbextensions      0.5.1  \n",
      "jupyter-core                      4.4.0  \n",
      "jupyter-highlight-selected-word   0.2.0  \n",
      "jupyter-latex-envs                1.4.6  \n",
      "jupyter-nbextensions-configurator 0.4.1  \n",
      "jupyterlab                        0.35.4 \n",
      "jupyterlab-server                 0.2.0  \n",
      "jupyterthemes                     0.20.0 \n",
      "kiwisolver                        1.0.1  \n",
      "lesscpy                           0.13.0 \n",
      "lxml                              4.3.2  \n",
      "MarkupSafe                        1.1.1  \n",
      "matplotlib                        3.0.3  \n",
      "mistune                           0.8.4  \n",
      "nbconvert                         5.4.1  \n",
      "nbformat                          4.4.0  \n",
      "notebook                          5.7.5  \n",
      "numpy                             1.16.2 \n",
      "pandas                            0.24.1 \n",
      "pandocfilters                     1.4.2  \n",
      "parso                             0.3.4  \n",
      "pickleshare                       0.7.5  \n",
      "Pillow                            5.4.1  \n",
      "pip                               19.0.3 \n",
      "ply                               3.11   \n",
      "prometheus-client                 0.6.0  \n",
      "prompt-toolkit                    2.0.9  \n",
      "Pygments                          2.3.1  \n",
      "pyparsing                         2.3.1  \n",
      "pyrsistent                        0.14.11\n",
      "python-dateutil                   2.8.0  \n",
      "pytz                              2018.9 \n",
      "pywinpty                          0.5.5  \n",
      "PyYAML                            3.13   \n",
      "pyzmq                             18.0.1 \n",
      "qtconsole                         4.4.3  \n",
      "scikit-learn                      0.20.3 \n",
      "scipy                             1.2.1  \n",
      "seaborn                           0.9.0  \n",
      "Send2Trash                        1.5.0  \n",
      "setuptools                        39.0.1 \n",
      "six                               1.12.0 \n",
      "sklearn                           0.0    \n",
      "terminado                         0.8.1  \n",
      "testpath                          0.4.2  \n",
      "tornado                           6.0.1  \n",
      "traitlets                         4.3.2  \n",
      "wcwidth                           0.1.7  \n",
      "webencodings                      0.5.1  \n",
      "widgetsnbextension                3.4.2  \n"
     ]
    }
   ],
   "source": [
    "!pip list\n",
    "# 亦可用pip freeze"
   ]
  },
  {
   "cell_type": "markdown",
   "metadata": {},
   "source": [
    "----\n",
    "## 搜尋特定名稱的套件。"
   ]
  },
  {
   "cell_type": "code",
   "execution_count": 5,
   "metadata": {},
   "outputs": [
    {
     "name": "stdout",
     "output_type": "stream",
     "text": [
      "pandas                            0.24.1 \n"
     ]
    }
   ],
   "source": [
    "!pip list | grep pandas"
   ]
  },
  {
   "cell_type": "markdown",
   "metadata": {},
   "source": [
    "---\n",
    "# Some Jupyter Magic Commands\n",
    "\n",
    "\n",
    "- Jupyter Magic Commands\n",
    "    - %%time: 給出cell的代碼運行一次所花費的時間。\n",
    "    - %timeit: 使用Python的timeit模塊，它將會執行一個語句100000次(默認情況下)，然後給出運行最快3次的平均值。\n",
    "    - %prun: 使用%prun statement_name將會產生一個有序表格來展示在該語句中所調用的每個內部函數調用的次數，每次調用的時間與該函數累計運行的時間。"
   ]
  },
  {
   "cell_type": "code",
   "execution_count": 6,
   "metadata": {},
   "outputs": [
    {
     "name": "stdout",
     "output_type": "stream",
     "text": [
      "Wall time: 1.24 s\n"
     ]
    }
   ],
   "source": [
    "%%time\n",
    "\n",
    "sum = 0\n",
    "for i in range(10000000+1):\n",
    "    sum = sum+i"
   ]
  },
  {
   "cell_type": "code",
   "execution_count": 7,
   "metadata": {},
   "outputs": [
    {
     "name": "stdout",
     "output_type": "stream",
     "text": [
      "588 ms ± 26.7 ms per loop (mean ± std. dev. of 7 runs, 1 loop each)\n"
     ]
    }
   ],
   "source": [
    "%%timeit\n",
    "\n",
    "sum = 0\n",
    "for i in range(10000000+1):\n",
    "    sum = sum+i"
   ]
  },
  {
   "cell_type": "code",
   "execution_count": null,
   "metadata": {},
   "outputs": [],
   "source": []
  }
 ],
 "metadata": {
  "kernelspec": {
   "display_name": "Python 3",
   "language": "python",
   "name": "python3"
  },
  "language_info": {
   "codemirror_mode": {
    "name": "ipython",
    "version": 3
   },
   "file_extension": ".py",
   "mimetype": "text/x-python",
   "name": "python",
   "nbconvert_exporter": "python",
   "pygments_lexer": "ipython3",
   "version": "3.6.7"
  },
  "toc": {
   "base_numbering": 1,
   "nav_menu": {
    "height": "223px",
    "width": "315px"
   },
   "number_sections": true,
   "sideBar": true,
   "skip_h1_title": false,
   "title_cell": "Table of Contents",
   "title_sidebar": "Contents",
   "toc_cell": true,
   "toc_position": {},
   "toc_section_display": true,
   "toc_window_display": false
  }
 },
 "nbformat": 4,
 "nbformat_minor": 2
}
